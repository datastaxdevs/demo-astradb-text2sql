{
 "cells": [
  {
   "cell_type": "markdown",
   "id": "74043b68-324d-44c9-a191-9f13d37b7001",
   "metadata": {
    "id": "74043b68-324d-44c9-a191-9f13d37b7001"
   },
   "source": [
    "# Dynamic Few-Shot Prompting for SQL"
   ]
  },
  {
   "cell_type": "markdown",
   "id": "607aeb3b-5245-4e8b-a710-d6d5026d602c",
   "metadata": {
    "id": "607aeb3b-5245-4e8b-a710-d6d5026d602c"
   },
   "source": [
    "Generating SQL to answer natural language questions is _hard_. There has been a large amount of research in this area, even before LLMs were made popular by ChatGPT. Although every individual problem may require specific techniques to achieve the best performance, there are still some general principles that can apply across many domains.\n",
    "\n",
    "This notebook will demonstrate one of those generalizable techniques - Dynamic Few-Shot Prompting using Astra DB - which can be used to improve the accuracy of generating queries to access your structured data."
   ]
  },
  {
   "cell_type": "markdown",
   "id": "fc6595dd-ffb1-47dc-9744-c778c090a6d9",
   "metadata": {},
   "source": [
    "## TODOs"
   ]
  },
  {
   "cell_type": "markdown",
   "id": "3b9905ab-b2bf-4a09-9f95-eb5122687798",
   "metadata": {},
   "source": [
    "- remove the local db from reqs\n",
    "- retest with redshift (eeh)\n",
    "- move all imports to a top section\n",
    "- rename the \"execute_rs\" for universality\n",
    "- rephrase to clarify RS optional\n",
    "- typing/style to all code\n",
    "- prettify the text, the output, the narrative\n",
    "- handle the astrapy prereleaseness\n",
    "- a messy mess with the 5 test queries magically aligned with the 5 golden ones (bleah)"
   ]
  },
  {
   "cell_type": "markdown",
   "id": "ffbdf67e-26b7-4713-8118-f5375488cc30",
   "metadata": {
    "id": "ffbdf67e-26b7-4713-8118-f5375488cc30"
   },
   "source": [
    "## Setup"
   ]
  },
  {
   "cell_type": "markdown",
   "id": "a96785dd-6dcf-43c9-ba6e-6fe3b6ab9835",
   "metadata": {
    "id": "a96785dd-6dcf-43c9-ba6e-6fe3b6ab9835"
   },
   "source": [
    "#### Requirements"
   ]
  },
  {
   "cell_type": "code",
   "execution_count": 1,
   "id": "e052fbf7-d3bc-4c86-af86-2384f5d7bfcb",
   "metadata": {
    "id": "e052fbf7-d3bc-4c86-af86-2384f5d7bfcb"
   },
   "outputs": [],
   "source": [
    "!pip install -q \\\n",
    "  \"openai>=1.0,<2.0\" \\\n",
    "  \"astrapy==2.0.0-rc1\" \\\n",
    "  \"datasets==3.*\" \\\n",
    "  \"redshift_connector==2.*\" \\\n",
    "  \"tenacity==9.*\""
   ]
  },
  {
   "cell_type": "markdown",
   "id": "c8f88ba3-136a-4a16-9032-9c1794e1ccf7",
   "metadata": {
    "id": "c8f88ba3-136a-4a16-9032-9c1794e1ccf7"
   },
   "source": [
    "#### Connect to Services"
   ]
  },
  {
   "cell_type": "markdown",
   "id": "283e3577-98c9-454d-8a39-39a01ab5e1c7",
   "metadata": {
    "id": "283e3577-98c9-454d-8a39-39a01ab5e1c7"
   },
   "source": [
    "What you'll need:\n",
    "- OpenAI API key ([link](https://platform.openai.com/docs/quickstart/account-setup))\n",
    "- Astra DB Token & URL ([link](https://docs.datastax.com/en/astra/astra-db-vector/get-started/quickstart.html#create-a-serverless-vector-database))\n",
    "- Amazon RedShift credentials ([link](https://docs.aws.amazon.com/redshift/latest/gsg/new-user-serverless.html#serverless-console-resource-creation))"
   ]
  },
  {
   "cell_type": "code",
   "execution_count": 77,
   "id": "b44ee15d-943f-481e-a0a1-6e1e1d8b2ec7",
   "metadata": {
    "id": "b44ee15d-943f-481e-a0a1-6e1e1d8b2ec7"
   },
   "outputs": [],
   "source": [
    "# Initialize the OpenAI Client\n",
    "import os\n",
    "from typing import List\n",
    "\n",
    "from getpass import getpass\n",
    "import openai\n",
    "from tenacity import retry, wait_exponential\n",
    "\n",
    "if \"OPENAI_API_KEY\" not in os.environ:\n",
    "    os.environ[\"OPENAI_API_KEY\"] = getpass(\"OpenAI API Key: \")\n",
    "\n",
    "client = openai.OpenAI()\n",
    "\n",
    "\n",
    "# This introduces expoential backoff in case ChatGPT is being rate limited/errors\n",
    "@retry(wait=wait_exponential(multiplier=1.2, min=4, max=30))\n",
    "def chat_gpt_completion(prompt: str) -> str:\n",
    "    return client.chat.completions.create(\n",
    "        messages=[{\n",
    "            \"role\": \"user\",\n",
    "            \"content\": prompt,\n",
    "        }],\n",
    "        model=\"gpt-4o-2024-08-06\",\n",
    "    ).choices[0].message.content\n",
    "\n",
    "\n",
    "@retry(wait=wait_exponential(multiplier=1.2, min=4, max=30))\n",
    "def compute_embedding(text: str) -> List[float]:\n",
    "    return client.embeddings.create(\n",
    "        input=text,\n",
    "        model=\"text-embedding-3-small\",\n",
    "        timeout=10,\n",
    "    ).data[0].embedding\n"
   ]
  },
  {
   "cell_type": "code",
   "execution_count": 6,
   "id": "5e76c8dc-0e8f-40dd-9cd9-da203b193fc5",
   "metadata": {
    "id": "5e76c8dc-0e8f-40dd-9cd9-da203b193fc5",
    "outputId": "c948b8a7-27e4-47fb-af40-7fd743b14aa8"
   },
   "outputs": [],
   "source": [
    "# Initialize the Astra DB vector client\n",
    "import os\n",
    "\n",
    "from astrapy import DataAPIClient\n",
    "\n",
    "# Grab the Astra token and API Endpoint from the environment or user input\n",
    "ASTRA_DB_API_ENDPOINT = os.environ[\"ASTRA_DB_API_ENDPOINT\"]\n",
    "if not ASTRA_DB_API_ENDPOINT:\n",
    "    ASTRA_DB_API_ENDPOINT = input(\"Astra DB API Endpoint: \")\n",
    "ASTRA_DB_APPLICATION_TOKEN = os.environ[\"ASTRA_DB_APPLICATION_TOKEN\"]\n",
    "if not ASTRA_DB_APPLICATION_TOKEN:\n",
    "    ASTRA_DB_APPLICATION_TOKEN = getpass(\"Astra DB Token: \")\n",
    "\n",
    "data_api_client = DataAPIClient()\n",
    "astra_db = data_api_client.get_database(\n",
    "    ASTRA_DB_API_ENDPOINT,\n",
    "    token=ASTRA_DB_APPLICATION_TOKEN,\n",
    ")"
   ]
  },
  {
   "cell_type": "code",
   "execution_count": null,
   "id": "4b6c40e8-8699-4471-8880-37b4839bb744",
   "metadata": {
    "id": "4b6c40e8-8699-4471-8880-37b4839bb744",
    "outputId": "d7bd2495-c884-4eaa-b181-ff311cd2b325"
   },
   "outputs": [],
   "source": [
    "# Initialize your RedShift connection\n",
    "import redshift_connector\n",
    "\n",
    "# NOTE: To connect to RedShift using other forms of auth, follow the steps here:\n",
    "# https://github.com/aws/amazon-redshift-python-driver/blob/master/tutorials/001%20-%20Connecting%20to%20Amazon%20Redshift.ipynb\n",
    "RS_HOST_URL = os.getenv(\n",
    "    \"REDSHIFT_HOST_URL\",\n",
    "    getpass(\"RedShift Host URL: \"),\n",
    ")\n",
    "RS_USER = os.getenv(\n",
    "    \"REDSHIFT_USER\",\n",
    "    input(\"RedShift User: \"),\n",
    ")\n",
    "RS_PASSWORD = os.getenv(\n",
    "    \"REDSHIFT_PASSWORD\",\n",
    "    getpass(\"RedShift Password: \"),\n",
    ")\n",
    "RS_DB_NAME = os.getenv(\n",
    "    \"REDSHIFT_DB_NAME\",\n",
    "    input(\"RedShift DB Name: \"),\n",
    ")\n",
    "\n",
    "\n",
    "def rs_execute(*statements, return_as_df: bool = True, commit: bool = True) -> pd.DataFrame:\n",
    "    \"\"\"Util to execute RedShift statements and return the result of the final query\"\"\"\n",
    "    with redshift_connector.connect(\n",
    "        host=RS_HOST_URL,\n",
    "        database=RS_DB_NAME,\n",
    "        user=RS_USER,\n",
    "        password=RS_PASSWORD,\n",
    "    ) as conn:\n",
    "        with conn.cursor() as cursor:\n",
    "            for statement in statements:\n",
    "                cursor.execute(statement)\n",
    "\n",
    "            try:\n",
    "                if return_as_df:\n",
    "                    res = cursor.fetch_dataframe()\n",
    "                else:\n",
    "                    res = cursor.fetchall()\n",
    "            except redshift_connector.ProgrammingError:\n",
    "                # No result set (final statement was not a SELECT)\n",
    "                res = None\n",
    "\n",
    "            if commit:\n",
    "                conn.commit()\n",
    "\n",
    "            return res\n"
   ]
  },
  {
   "cell_type": "code",
   "execution_count": 60,
   "id": "6175152d-5e28-494b-9f16-e1c91028fefe",
   "metadata": {},
   "outputs": [],
   "source": [
    "### MOCK REDSHIFT VIA SQLITE3\n",
    "import sqlite3\n",
    "import pandas as pd\n",
    "\n",
    "DB_FILENAME = \"steo1.db\"\n",
    "\n",
    "def rs_execute(*statements) -> pd.DataFrame:\n",
    "    \"\"\"Util to execute DB SQL statements and return the result of the final query\"\"\"\n",
    "    with sqlite3.connect(DB_FILENAME) as conn:\n",
    "        cursor = conn.cursor()\n",
    "        for statement in statements:\n",
    "            cursor.execute(statement)\n",
    "        try:\n",
    "            res = cursor.fetchall()\n",
    "        except Exception as e:#redshift_connector.ProgrammingError:\n",
    "            # No result set (final statement was not a SELECT)\n",
    "            print(\"EXCEPTION TO FIX\", str(e), e)\n",
    "            res = None\n",
    "\n",
    "        return res\n"
   ]
  },
  {
   "cell_type": "markdown",
   "id": "f87a5931-557e-4eaf-abbf-7e23f1c9e5de",
   "metadata": {
    "id": "f87a5931-557e-4eaf-abbf-7e23f1c9e5de"
   },
   "source": [
    "#### Load Data"
   ]
  },
  {
   "cell_type": "markdown",
   "id": "68a79da8-7a2c-475c-b60a-5ad2704ffba5",
   "metadata": {
    "id": "68a79da8-7a2c-475c-b60a-5ad2704ffba5"
   },
   "source": [
    "For this demo, we will use the [Spider](https://yale-lily.github.io/spider) dataset, which has been a standard to evaluate generated SQL performance for a few years now. This dataset consists of `question`, `query` pairs to indicate the ideal query to be generated from a given natural language question.\n",
    "\n",
    "NOTE: To apply this to a specific use case, the best way to collect data is to store generated SQL from an application in some live environment (dev, staging, prod all work as long as the queries are realistic). You can then either have a quick feedback interface for users to thumbs up/thumbs down the generated queries, or can have internal human evaluators grade the queries offline. As more poisitively graded generations are available, you will have more examples to be able to use to improve your live SQL-generating application."
   ]
  },
  {
   "cell_type": "code",
   "execution_count": 8,
   "id": "29b68b71-feef-4528-87dd-01345cfea7f0",
   "metadata": {
    "id": "29b68b71-feef-4528-87dd-01345cfea7f0"
   },
   "outputs": [],
   "source": [
    "from datasets import load_dataset\n",
    "\n",
    "spider = load_dataset(\"spider\", split=\"validation\")\n",
    "spider_df = spider.to_pandas()\n",
    "spider_schema = load_dataset(\"richardr1126/spider-schema\", split=\"train\")\n",
    "spider_schema_df = spider_schema.to_pandas()"
   ]
  },
  {
   "cell_type": "code",
   "execution_count": 9,
   "id": "2feb2a43-958f-4125-9218-3b8addf001d5",
   "metadata": {
    "id": "2feb2a43-958f-4125-9218-3b8addf001d5",
    "outputId": "35266e52-8299-4ccd-e195-3ecaba8996bc"
   },
   "outputs": [
    {
     "data": {
      "text/html": [
       "<div>\n",
       "<style scoped>\n",
       "    .dataframe tbody tr th:only-of-type {\n",
       "        vertical-align: middle;\n",
       "    }\n",
       "\n",
       "    .dataframe tbody tr th {\n",
       "        vertical-align: top;\n",
       "    }\n",
       "\n",
       "    .dataframe thead th {\n",
       "        text-align: right;\n",
       "    }\n",
       "</style>\n",
       "<table border=\"1\" class=\"dataframe\">\n",
       "  <thead>\n",
       "    <tr style=\"text-align: right;\">\n",
       "      <th></th>\n",
       "      <th>db_id</th>\n",
       "      <th>query</th>\n",
       "      <th>question</th>\n",
       "      <th>query_toks</th>\n",
       "      <th>query_toks_no_value</th>\n",
       "      <th>question_toks</th>\n",
       "    </tr>\n",
       "  </thead>\n",
       "  <tbody>\n",
       "    <tr>\n",
       "      <th>0</th>\n",
       "      <td>concert_singer</td>\n",
       "      <td>SELECT count(*) FROM singer</td>\n",
       "      <td>How many singers do we have?</td>\n",
       "      <td>[SELECT, count, (, *, ), FROM, singer]</td>\n",
       "      <td>[select, count, (, *, ), from, singer]</td>\n",
       "      <td>[How, many, singers, do, we, have, ?]</td>\n",
       "    </tr>\n",
       "    <tr>\n",
       "      <th>1</th>\n",
       "      <td>concert_singer</td>\n",
       "      <td>SELECT count(*) FROM singer</td>\n",
       "      <td>What is the total number of singers?</td>\n",
       "      <td>[SELECT, count, (, *, ), FROM, singer]</td>\n",
       "      <td>[select, count, (, *, ), from, singer]</td>\n",
       "      <td>[What, is, the, total, number, of, singers, ?]</td>\n",
       "    </tr>\n",
       "    <tr>\n",
       "      <th>2</th>\n",
       "      <td>concert_singer</td>\n",
       "      <td>SELECT name ,  country ,  age FROM singer ORDE...</td>\n",
       "      <td>Show name, country, age for all singers ordere...</td>\n",
       "      <td>[SELECT, name, ,, country, ,, age, FROM, singe...</td>\n",
       "      <td>[select, name, ,, country, ,, age, from, singe...</td>\n",
       "      <td>[Show, name, ,, country, ,, age, for, all, sin...</td>\n",
       "    </tr>\n",
       "    <tr>\n",
       "      <th>3</th>\n",
       "      <td>concert_singer</td>\n",
       "      <td>SELECT name ,  country ,  age FROM singer ORDE...</td>\n",
       "      <td>What are the names, countries, and ages for ev...</td>\n",
       "      <td>[SELECT, name, ,, country, ,, age, FROM, singe...</td>\n",
       "      <td>[select, name, ,, country, ,, age, from, singe...</td>\n",
       "      <td>[What, are, the, names, ,, countries, ,, and, ...</td>\n",
       "    </tr>\n",
       "    <tr>\n",
       "      <th>4</th>\n",
       "      <td>concert_singer</td>\n",
       "      <td>SELECT avg(age) ,  min(age) ,  max(age) FROM s...</td>\n",
       "      <td>What is the average, minimum, and maximum age ...</td>\n",
       "      <td>[SELECT, avg, (, age, ), ,, min, (, age, ), ,,...</td>\n",
       "      <td>[select, avg, (, age, ), ,, min, (, age, ), ,,...</td>\n",
       "      <td>[What, is, the, average, ,, minimum, ,, and, m...</td>\n",
       "    </tr>\n",
       "  </tbody>\n",
       "</table>\n",
       "</div>"
      ],
      "text/plain": [
       "            db_id                                              query  \\\n",
       "0  concert_singer                        SELECT count(*) FROM singer   \n",
       "1  concert_singer                        SELECT count(*) FROM singer   \n",
       "2  concert_singer  SELECT name ,  country ,  age FROM singer ORDE...   \n",
       "3  concert_singer  SELECT name ,  country ,  age FROM singer ORDE...   \n",
       "4  concert_singer  SELECT avg(age) ,  min(age) ,  max(age) FROM s...   \n",
       "\n",
       "                                            question  \\\n",
       "0                       How many singers do we have?   \n",
       "1               What is the total number of singers?   \n",
       "2  Show name, country, age for all singers ordere...   \n",
       "3  What are the names, countries, and ages for ev...   \n",
       "4  What is the average, minimum, and maximum age ...   \n",
       "\n",
       "                                          query_toks  \\\n",
       "0             [SELECT, count, (, *, ), FROM, singer]   \n",
       "1             [SELECT, count, (, *, ), FROM, singer]   \n",
       "2  [SELECT, name, ,, country, ,, age, FROM, singe...   \n",
       "3  [SELECT, name, ,, country, ,, age, FROM, singe...   \n",
       "4  [SELECT, avg, (, age, ), ,, min, (, age, ), ,,...   \n",
       "\n",
       "                                 query_toks_no_value  \\\n",
       "0             [select, count, (, *, ), from, singer]   \n",
       "1             [select, count, (, *, ), from, singer]   \n",
       "2  [select, name, ,, country, ,, age, from, singe...   \n",
       "3  [select, name, ,, country, ,, age, from, singe...   \n",
       "4  [select, avg, (, age, ), ,, min, (, age, ), ,,...   \n",
       "\n",
       "                                       question_toks  \n",
       "0              [How, many, singers, do, we, have, ?]  \n",
       "1     [What, is, the, total, number, of, singers, ?]  \n",
       "2  [Show, name, ,, country, ,, age, for, all, sin...  \n",
       "3  [What, are, the, names, ,, countries, ,, and, ...  \n",
       "4  [What, is, the, average, ,, minimum, ,, and, m...  "
      ]
     },
     "execution_count": 9,
     "metadata": {},
     "output_type": "execute_result"
    }
   ],
   "source": [
    "spider_df.head(5)"
   ]
  },
  {
   "cell_type": "code",
   "execution_count": 10,
   "id": "e4e2e314-cf65-4278-a6f6-5ff5a90d19f2",
   "metadata": {
    "id": "e4e2e314-cf65-4278-a6f6-5ff5a90d19f2",
    "outputId": "5bf68835-b72f-4e3c-f856-2d22e3196626"
   },
   "outputs": [
    {
     "name": "stdout",
     "output_type": "stream",
     "text": [
      "Question (concert_singer):\n",
      "    How many concerts occurred in 2014 or 2015?\n",
      "Gold Query SQL:\n",
      "    SELECT count(*) FROM concert WHERE YEAR  =  2014 OR YEAR  =  2015\n",
      "================================================================================\n",
      "Question (concert_singer):\n",
      "    Show the stadium names without any concert.\n",
      "Gold Query SQL:\n",
      "    SELECT name FROM stadium WHERE stadium_id NOT IN (SELECT stadium_id FROM concert)\n",
      "================================================================================\n",
      "Question (pets_1):\n",
      "    What are the students' first names who have both cats and dogs as pets?\n",
      "Gold Query SQL:\n",
      "    SELECT T1.Fname FROM student AS T1 JOIN has_pet AS T2 ON T1.stuid  =  T2.stuid JOIN pets AS T3 ON T3.petid  =  T2.petid WHERE T3.pettype  =  'cat' INTERSECT SELECT T1.Fname FROM student AS T1 JOIN has_pet AS T2 ON T1.stuid  =  T2.stuid JOIN pets AS T3 ON T3.petid  =  T2.petid WHERE T3.pettype  =  'dog'\n",
      "================================================================================\n",
      "Question (pets_1):\n",
      "    Find the id of students who do not have a cat pet.\n",
      "Gold Query SQL:\n",
      "    SELECT stuid FROM student EXCEPT SELECT T1.stuid FROM student AS T1 JOIN has_pet AS T2 ON T1.stuid  =  T2.stuid JOIN pets AS T3 ON T3.petid  =  T2.petid WHERE T3.pettype  =  'cat'\n",
      "================================================================================\n",
      "Question (pets_1):\n",
      "    Find the first name and age of students who have a pet.\n",
      "Gold Query SQL:\n",
      "    SELECT DISTINCT T1.fname ,  T1.age FROM student AS T1 JOIN has_pet AS T2 ON T1.stuid  =  T2.stuid\n",
      "================================================================================\n"
     ]
    }
   ],
   "source": [
    "# Remove some questions for us to test our pipeline with\n",
    "test_ndxs = [21, 28, 60, 63, 75]  # Randomly picked some queries the model succeeds and fails on\n",
    "ndxs_to_drop = test_ndxs.copy()\n",
    "test_df = spider_df.loc[test_ndxs]\n",
    "\n",
    "for ndx in test_ndxs:\n",
    "    row = spider_df.loc[ndx]\n",
    "    print(f\"Question ({row['db_id']}):\\n    {row['question']}\")\n",
    "    print(f\"Gold Query SQL:\\n    {row['query']}\")\n",
    "    print(\"=\" * 80)\n",
    "\n",
    "    # Remove any rows that have the exact same query as the answer\n",
    "    # (this prevents some data leakage so our dynamic few-shot approach can't already see the correct query)\n",
    "    same_query_rows = spider_df[spider_df['query'] == row['query']]\n",
    "    for same_query_ndx in same_query_rows.index:\n",
    "        ndxs_to_drop.append(same_query_ndx)\n",
    "\n",
    "spider_df = spider_df.drop(ndxs_to_drop)"
   ]
  },
  {
   "cell_type": "markdown",
   "id": "44a00dee-0692-4f63-9248-0f0bd80b6279",
   "metadata": {
    "id": "44a00dee-0692-4f63-9248-0f0bd80b6279"
   },
   "source": [
    "#### SQL DB Setup"
   ]
  },
  {
   "cell_type": "markdown",
   "id": "5da848ba-7452-4a15-b1b8-579e4ce7fa84",
   "metadata": {
    "id": "5da848ba-7452-4a15-b1b8-579e4ce7fa84"
   },
   "source": [
    "Set up a demo DB using data from the Spider dataset. You can optionally connect this to your preexisting DB, provided you have some example (question, query) pairs to use as few-shot exemplars.\n",
    "\n",
    "We will be using Amazon RedShift to store the structured data, but this same approach should work with any SQL-compatible DB setup. We will create tables matching the Spider schema and insert some fake data for each of the test questions we chose above.\n",
    "\n",
    "NOTE: To generate the below SQL statements, I simply used ChatGPT (4) with the prompt template:\n",
    "\n",
    "> Given the below schema, primary keys, and foreign keys, please give me valid SQL statements for creating tables that match that schema:\n",
    ">\n",
    "> Schema: `{spider_schema_df.loc[db_id]['Schema (values (type))']}`\n",
    ">\n",
    "> Primary Keys: `{spider_schema_df.loc[db_id]['Primary Keys']}`\n",
    ">\n",
    "> Foreign Keys: `{spider_schema_df.loc[db_id]['Foreign Keys']}`\n",
    "\n",
    "> Thanks! Now please give me SQL statements that populate the tables with valid data, at a minimum of 5 rows per table"
   ]
  },
  {
   "cell_type": "code",
   "execution_count": 11,
   "id": "fbfdb53c-dbb5-4809-a61e-f4f242d33574",
   "metadata": {
    "id": "fbfdb53c-dbb5-4809-a61e-f4f242d33574",
    "outputId": "8040964a-5a89-414c-bb0f-273dd348394d"
   },
   "outputs": [
    {
     "data": {
      "text/plain": [
       "[]"
      ]
     },
     "execution_count": 11,
     "metadata": {},
     "output_type": "execute_result"
    }
   ],
   "source": [
    "# Set up concert_singer DB\n",
    "CREATE_TABLES_SQL = \"\"\"\n",
    "-- Creating the stadium table\n",
    "CREATE TABLE stadium (\n",
    "    Stadium_ID INT PRIMARY KEY,\n",
    "    Location TEXT,\n",
    "    Name TEXT,\n",
    "    Capacity INT,\n",
    "    Highest INT,\n",
    "    Lowest INT,\n",
    "    Average INT\n",
    ");\n",
    "\n",
    "-- Creating the singer table\n",
    "CREATE TABLE singer (\n",
    "    Singer_ID INT PRIMARY KEY,\n",
    "    Name TEXT,\n",
    "    Country TEXT,\n",
    "    Song_Name TEXT,\n",
    "    Song_release_year TEXT,\n",
    "    Age INT,\n",
    "    Is_male BOOLEAN\n",
    ");\n",
    "\n",
    "-- Creating the concert table\n",
    "CREATE TABLE concert (\n",
    "    concert_ID INT PRIMARY KEY,\n",
    "    concert_Name TEXT,\n",
    "    Theme TEXT,\n",
    "    Stadium_ID INT,\n",
    "    Year TEXT,\n",
    "    FOREIGN KEY (Stadium_ID) REFERENCES stadium(Stadium_ID)\n",
    ");\n",
    "\n",
    "-- Creating the singer_in_concert table\n",
    "CREATE TABLE singer_in_concert (\n",
    "    concert_ID INT,\n",
    "    Singer_ID INT,\n",
    "    PRIMARY KEY (concert_ID, Singer_ID),\n",
    "    FOREIGN KEY (concert_ID) REFERENCES concert(concert_ID),\n",
    "    FOREIGN KEY (Singer_ID) REFERENCES singer(Singer_ID)\n",
    ");\n",
    "\"\"\"\n",
    "\n",
    "POPULATE_DATA_SQL = \"\"\"\n",
    "-- Populating the stadium table\n",
    "INSERT INTO stadium (Stadium_ID, Location, Name, Capacity, Highest, Lowest, Average) VALUES\n",
    "(1, 'New York, USA', 'Liberty Stadium', 50000, 1000, 500, 750),\n",
    "(2, 'London, UK', 'Royal Arena', 60000, 1500, 600, 900),\n",
    "(3, 'Tokyo, Japan', 'Sunshine Dome', 55000, 1200, 550, 800),\n",
    "(4, 'Sydney, Australia', 'Ocean Field', 40000, 900, 400, 650),\n",
    "(5, 'Berlin, Germany', 'Eagle Grounds', 45000, 1100, 450, 700);\n",
    "\n",
    "-- Populating the singer table\n",
    "INSERT INTO singer (Singer_ID, Name, Country, Song_Name, Song_release_year, Age, Is_male) VALUES\n",
    "(1, 'John Doe', 'USA', 'Freedom Song', '2018', 28, TRUE),\n",
    "(2, 'Emma Stone', 'UK', 'Rolling Hills', '2019', 25, FALSE),\n",
    "(3, 'Haruki Tanaka', 'Japan', 'Tokyo Lights', '2020', 30, TRUE),\n",
    "(4, 'Alice Johnson', 'Australia', 'Ocean Waves', '2021', 27, FALSE),\n",
    "(5, 'Max Müller', 'Germany', 'Berlin Nights', '2017', 32, TRUE);\n",
    "\n",
    "-- Populating the concert table\n",
    "INSERT INTO concert (concert_ID, concert_Name, Theme, Stadium_ID, Year) VALUES\n",
    "(1, 'Freedom Fest', 'Pop', 1, '2021'),\n",
    "(2, 'Rock Mania', 'Rock', 2, '2022'),\n",
    "(3, 'Electronic Waves', 'Electronic', 3, '2020'),\n",
    "(4, 'Jazz Evenings', 'Jazz', 3, '2019'),\n",
    "(5, 'Classical Mornings', 'Classical', 5, '2023');\n",
    "\n",
    "-- Populating the singer_in_concert table\n",
    "INSERT INTO singer_in_concert (concert_ID, Singer_ID) VALUES\n",
    "(1, 1),\n",
    "(1, 2),\n",
    "(2, 3),\n",
    "(3, 4),\n",
    "(4, 5),\n",
    "(5, 1),\n",
    "(2, 2),\n",
    "(3, 3),\n",
    "(4, 4),\n",
    "(5, 5);\n",
    "\"\"\"\n",
    "\n",
    "statements = [\n",
    "    statement.strip() for statement in (CREATE_TABLES_SQL + POPULATE_DATA_SQL).split(\";\")\n",
    "    if len(statement.strip()) > 0\n",
    "]\n",
    "rs_execute(*statements)"
   ]
  },
  {
   "cell_type": "code",
   "execution_count": 12,
   "id": "1b2a0be5-419a-4781-898d-bb87ef8f69de",
   "metadata": {
    "id": "1b2a0be5-419a-4781-898d-bb87ef8f69de",
    "outputId": "1ecf9897-3a7e-472e-b251-b4ce88e1d6d6"
   },
   "outputs": [
    {
     "data": {
      "text/plain": [
       "[]"
      ]
     },
     "execution_count": 12,
     "metadata": {},
     "output_type": "execute_result"
    }
   ],
   "source": [
    "# Set up pets_1 DB\n",
    "CREATE_TABLES_SQL = \"\"\"\n",
    "-- Creating the Student table\n",
    "CREATE TABLE Student (\n",
    "    StuID INT PRIMARY KEY,\n",
    "    LName VARCHAR(255),\n",
    "    Fname VARCHAR(255),\n",
    "    Age INT,\n",
    "    Sex VARCHAR(10),\n",
    "    Major INT,\n",
    "    Advisor INT,\n",
    "    city_code VARCHAR(50)\n",
    ");\n",
    "\n",
    "-- Creating the Pets table\n",
    "CREATE TABLE Pets (\n",
    "    PetID INT PRIMARY KEY,\n",
    "    PetType VARCHAR(255),\n",
    "    pet_age INT,\n",
    "    weight INT\n",
    ");\n",
    "\n",
    "-- Creating the Has_Pet table\n",
    "CREATE TABLE Has_Pet (\n",
    "    StuID INT,\n",
    "    PetID INT,\n",
    "    FOREIGN KEY (StuID) REFERENCES Student(StuID),\n",
    "    FOREIGN KEY (PetID) REFERENCES Pets(PetID)\n",
    ");\n",
    "\"\"\"\n",
    "\n",
    "POPULATE_DATA_SQL = \"\"\"\n",
    "-- Populating the Student table\n",
    "INSERT INTO Student (StuID, LName, Fname, Age, Sex, Major, Advisor, city_code) VALUES\n",
    "(101, 'Smith', 'John', 20, 'M', 501, 301, 'NYC'),\n",
    "(102, 'Johnson', 'Emma', 22, 'F', 502, 302, 'LAX'),\n",
    "(103, 'Williams', 'Michael', 21, 'M', 503, 303, 'CHI'),\n",
    "(104, 'Brown', 'Sarah', 23, 'F', 504, 304, 'HOU'),\n",
    "(105, 'Jones', 'David', 19, 'M', 505, 305, 'PHI');\n",
    "\n",
    "-- Populating the Pets table\n",
    "INSERT INTO Pets (PetID, PetType, pet_age, weight) VALUES\n",
    "(201, 'dog', 3, 20.5),\n",
    "(202, 'cat', 5, 10.2),\n",
    "(203, 'dog', 2, 8.1),\n",
    "(204, 'parrot', 4, 0.5),\n",
    "(205, 'hamster', 1, 0.7);\n",
    "\n",
    "-- Populating the Has_Pet table\n",
    "INSERT INTO Has_Pet (StuID, PetID) VALUES\n",
    "(101, 201),\n",
    "(101, 202),\n",
    "(105, 203),\n",
    "(103, 204),\n",
    "(104, 205),\n",
    "(105, 201);\n",
    "\"\"\"\n",
    "\n",
    "statements = [\n",
    "    statement.strip() for statement in (CREATE_TABLES_SQL + POPULATE_DATA_SQL).split(\";\")\n",
    "    if len(statement.strip()) > 0\n",
    "]\n",
    "rs_execute(*statements)"
   ]
  },
  {
   "cell_type": "markdown",
   "id": "19b4a2f0-a5d9-40d8-9929-5c047dafdca5",
   "metadata": {
    "id": "19b4a2f0-a5d9-40d8-9929-5c047dafdca5"
   },
   "source": [
    "Finally, we just need an evaluation function given a list of queries. This evaluation function should return if the queries run successfully against our fake data, and if they return the same results that the gold SQL queries return."
   ]
  },
  {
   "cell_type": "code",
   "execution_count": 110,
   "id": "7bde010d-5fb5-410b-8b66-a6376668c601",
   "metadata": {
    "id": "7bde010d-5fb5-410b-8b66-a6376668c601"
   },
   "outputs": [],
   "source": [
    "def eval_generated_queries(queries: List[str]) -> pd.DataFrame:\n",
    "    \"\"\"Evaluate the given queries against the test set, and return a report of the performance on each row\"\"\"\n",
    "    report = []\n",
    "\n",
    "    for ndx, pred_sql in enumerate(queries):\n",
    "        row = test_df.iloc[ndx]\n",
    "        gold_sql = row[\"query\"]\n",
    "        gold_results = rs_execute(gold_sql)\n",
    "\n",
    "        pred_sql = queries[ndx]\n",
    "        try:\n",
    "            pred_results = rs_execute(pred_sql)\n",
    "            err = None\n",
    "\n",
    "            # Figure out correctness, not super straightforward\n",
    "            if len(gold_results) == len(pred_results):\n",
    "                # (note: here and in the next sorting, we ignore 'sorting collisions' for simplicity...)\n",
    "                in_sorted_pred = [sorted(tpl,key=str) for tpl in pred_results]\n",
    "                in_sorted_gold = [sorted(tpl,key=str) for tpl in gold_results]\n",
    "                if \"ORDER BY\" in gold_sql.upper():\n",
    "                    # must leave order among tuples untouched and expect it to be correct\n",
    "                    correct = in_sorted_pred == in_sorted_gold\n",
    "                else:\n",
    "                    # sort sequence of tuples before comparison\\\n",
    "                    correct = sorted(in_sorted_pred) == sorted(in_sorted_gold)\n",
    "            else:\n",
    "                correct = False\n",
    "\n",
    "            # debug\n",
    "            print(f\"\\n\\nGOLD_SQL: {gold_sql}\")\n",
    "            print(f\"GOLD_RES: {str(gold_results)}\")\n",
    "            print(f\"PRED_RES: {str(pred_results)}\")\n",
    "            print(f\"==> CORRECT: {correct}\")\n",
    "            \n",
    "        except Exception as e:\n",
    "            print(\"EXCEPTION TO FIX\", str(e), e)\n",
    "            pred_results = None\n",
    "            err = e\n",
    "            correct = False\n",
    "\n",
    "        report.append({\n",
    "            \"DB ID\": row[\"db_id\"],\n",
    "            \"Question\": row[\"question\"],\n",
    "            \"Correct\": correct,\n",
    "            \"Error\": err,\n",
    "        })\n",
    "\n",
    "    return pd.DataFrame(report)\n"
   ]
  },
  {
   "cell_type": "markdown",
   "id": "d7e5429c-b76c-434d-ac8d-0e6ed433a611",
   "metadata": {
    "id": "d7e5429c-b76c-434d-ac8d-0e6ed433a611"
   },
   "source": [
    "## Generating SQL"
   ]
  },
  {
   "cell_type": "markdown",
   "id": "fb32bd7f-e958-49b3-8623-446bfad21529",
   "metadata": {
    "id": "fb32bd7f-e958-49b3-8623-446bfad21529"
   },
   "source": [
    "Now, let's go ahead and generate some SQL queries in a few different ways. First, we'll use ChatGPT with a prompt template from the [SQL-PaLM](https://arxiv.org/abs/2306.00739) paper as-is to see how it does."
   ]
  },
  {
   "cell_type": "markdown",
   "id": "9314f5be-59e1-4004-a49c-970593ca3457",
   "metadata": {
    "id": "9314f5be-59e1-4004-a49c-970593ca3457"
   },
   "source": [
    "#### Zero-Shot Text to SQL"
   ]
  },
  {
   "cell_type": "markdown",
   "id": "295c7cb4-5b4d-47bd-95fc-ff2767afd80d",
   "metadata": {
    "id": "295c7cb4-5b4d-47bd-95fc-ff2767afd80d"
   },
   "source": [
    "First, we have some utility functions to define. The logic below is mostly for translating the Spider schema format to match the prompt template of the SQL-PaLM paper, which has proven to be effective."
   ]
  },
  {
   "cell_type": "code",
   "execution_count": 61,
   "id": "5d90bb54-bc50-47b2-a9bb-27cefc273cd7",
   "metadata": {
    "id": "5d90bb54-bc50-47b2-a9bb-27cefc273cd7"
   },
   "outputs": [],
   "source": [
    "import re\n",
    "from typing import List\n",
    "\n",
    "\n",
    "def _format_schema(db_id: str, old_schema: str) -> (str, str):\n",
    "    \"\"\"Converts the existing schema format of spider_schema_df to schema, columns used by SQL-PaLM\"\"\"\n",
    "    schema_str = f\"| {db_id} \"\n",
    "    cols_str = \"\"\n",
    "\n",
    "    for table_name in re.findall(r\"([^,: ]*) :\", old_schema):\n",
    "        schema_str += f\"| {table_name} : \"\n",
    "\n",
    "        start_ndx = old_schema.find(table_name + \" :\")\n",
    "        end_ndx = old_schema.find(\":\", start_ndx + len(table_name) + 4)\n",
    "        if end_ndx == -1:\n",
    "            end_ndx = len(old_schema)\n",
    "        curr_substr = old_schema[start_ndx:end_ndx]\n",
    "        for col_name, col_type in re.findall(r\" ([^:,]*) \\(([^,]*)\\)\", curr_substr):\n",
    "            schema_str += f\"{col_name} , \"\n",
    "            cols_str += f\"{table_name} : {col_name} ({col_type}) | \"\n",
    "\n",
    "        schema_str = schema_str[:-2]\n",
    "    cols_str = cols_str[:-2]\n",
    "\n",
    "    return schema_str + \";\", cols_str + \";\"\n",
    "\n",
    "\n",
    "def _format_prompt(db_id: str, question: str, answer: str | None = None) -> str:\n",
    "    \"\"\"Returns a formatted section of the prompt describing the DB Schema\"\"\"\n",
    "    schema_row = spider_schema_df[spider_schema_df['db_id'] == db_id].iloc[0]\n",
    "    schema_str, cols_str = _format_schema(db_id, schema_row['Schema (values (type))'])\n",
    "\n",
    "    if answer is not None:\n",
    "        # Is example\n",
    "        prefix_str = \"Here is an example: \"\n",
    "    else:\n",
    "        prefix_str = \"Given the following schema information, generate valid SQL to answer the provided query. Enclose the query in markdown code-block syntax.\"\n",
    "\n",
    "    prompt_str = f\"\"\"{prefix_str}Convert text to SQL:\n",
    "\n",
    "[Schema : (values)]: {schema_str}\n",
    "\n",
    "[Column names (type)]: {cols_str}\n",
    "\n",
    "[Primary Keys]: {schema_row['Primary Keys']}\n",
    "\n",
    "[Foreign Keys]: {schema_row['Foreign Keys']}\n",
    "\n",
    "[Q]: {question}\n",
    "\n",
    "[SQL]: \"\"\"\n",
    "    if answer is not None:\n",
    "        prompt_str += answer + \"\\n\\n\"\n",
    "\n",
    "    return prompt_str\n",
    "\n",
    "\n",
    "def zero_shot_prompt(db_id: str, question: str) -> str:\n",
    "    \"\"\"Creates a Zero-Shot prompt for the given question & db_id\"\"\"\n",
    "    return _format_prompt(db_id, question)\n",
    "\n",
    "\n",
    "def few_shot_prompt(db_id: str, question: str, indices: List[int]) -> str:\n",
    "    \"\"\"Creates a few shot prompt using the given indices to construct the example\"\"\"\n",
    "    prompt = \"\"\n",
    "    for ndx in indices:\n",
    "        row = spider_df.loc[ndx]\n",
    "        prompt += _format_prompt(row['db_id'], row['question'], row['query'])\n",
    "\n",
    "    return prompt + _format_prompt(db_id, question)\n",
    "\n",
    "\n",
    "def clean_response(resp):\n",
    "    _start = resp.find(\"```sql\")\n",
    "    if _start < 0:\n",
    "        raise ValueError(\"Invalid answer from LLM.\")\n",
    "    rest = resp[_start+6:]\n",
    "    _stop = rest.find(\"```\")\n",
    "    if _stop < 0:\n",
    "        raise ValueError(\"Invalid answer from LLM.\")\n",
    "    _sql = rest[:_stop].strip()\n",
    "    return _sql\n",
    "\n",
    "def generate_sql(question: str, db_id: str, prompt_fn, debug_prompt=False) -> str:\n",
    "    \"\"\"Generates a Chat response for a given Spider question & DB ID\"\"\"\n",
    "    prompt = prompt_fn(db_id=db_id, question=question)\n",
    "\n",
    "    if debug_prompt:\n",
    "        print(f\"Prompting ChatGPT with:\\n{prompt}\\n\\n\")\n",
    "\n",
    "    response = chat_gpt_completion(prompt)\n",
    "    return clean_response(response)\n"
   ]
  },
  {
   "cell_type": "markdown",
   "id": "6fbc9748-cf18-4fa5-a793-f2903e53791b",
   "metadata": {
    "id": "6fbc9748-cf18-4fa5-a793-f2903e53791b"
   },
   "source": [
    "Next, we can try some of the questions we pulled out from the examples above"
   ]
  },
  {
   "cell_type": "code",
   "execution_count": 62,
   "id": "1f1242da-5819-4454-9292-63ebec3b4929",
   "metadata": {
    "id": "1f1242da-5819-4454-9292-63ebec3b4929",
    "outputId": "d6b8fcb0-bc35-47a5-e6a7-4fe16532d770"
   },
   "outputs": [
    {
     "name": "stdout",
     "output_type": "stream",
     "text": [
      "Prompting ChatGPT with:\n",
      "Given the following schema information, generate valid SQL to answer the provided query. Enclose the query in markdown code-block syntax.Convert text to SQL:\n",
      "\n",
      "[Schema : (values)]: | concert_singer | stadium : Stadium_ID , Location , Name , Capacity , Highest , Lowest , Average | singer : Singer_ID , Name , Country , Song_Name , Song_release_year , Age , Is_male | concert : concert_ID , concert_Name , Theme , Stadium_ID , Year | singer_in_concert : concert_ID , Singer_ID ;\n",
      "\n",
      "[Column names (type)]: stadium : Stadium_ID (number) | stadium : Location (text) | stadium : Name (text) | stadium : Capacity (number) | stadium : Highest (number) | stadium : Lowest (number) | stadium : Average (number) | singer : Singer_ID (number) | singer : Name (text) | singer : Country (text) | singer : Song_Name (text) | singer : Song_release_year (text) | singer : Age (number) | singer : Is_male (others) | concert : concert_ID (number) | concert : concert_Name (text) | concert : Theme (text) | concert : Stadium_ID (text) | concert : Year (text) | singer_in_concert : concert_ID (number) | singer_in_concert : Singer_ID (text) ;\n",
      "\n",
      "[Primary Keys]: stadium : Stadium_ID | singer : Singer_ID | concert : concert_ID | singer_in_concert : concert_ID\n",
      "\n",
      "[Foreign Keys]: concert : Stadium_ID equals stadium : Stadium_ID | singer_in_concert : Singer_ID equals singer : Singer_ID | singer_in_concert : concert_ID equals concert : concert_ID\n",
      "\n",
      "[Q]: How many concerts occurred in 2014 or 2015?\n",
      "\n",
      "[SQL]: \n",
      "\n",
      "\n",
      "SELECT COUNT(*) AS NumberOfConcerts\n",
      "FROM concert\n",
      "WHERE Year = '2014' OR Year = '2015';\n"
     ]
    }
   ],
   "source": [
    "# Showing the prompt here as well to get a sense of what the model is seeing for context\n",
    "sql1 = generate_sql(\n",
    "    question=\"How many concerts occurred in 2014 or 2015?\",\n",
    "    db_id=\"concert_singer\",\n",
    "    prompt_fn=zero_shot_prompt,\n",
    "    debug_prompt=True,\n",
    ")\n",
    "print(sql1)"
   ]
  },
  {
   "cell_type": "code",
   "execution_count": 64,
   "id": "2f1cb72e-7c11-4b88-be8d-06d47c3f3012",
   "metadata": {
    "id": "2f1cb72e-7c11-4b88-be8d-06d47c3f3012",
    "outputId": "e58866ae-39e2-4869-bde8-633825688669"
   },
   "outputs": [
    {
     "name": "stdout",
     "output_type": "stream",
     "text": [
      "SELECT s.Name\n",
      "FROM stadium s\n",
      "LEFT JOIN concert c ON s.Stadium_ID = c.Stadium_ID\n",
      "WHERE c.concert_ID IS NULL;\n"
     ]
    }
   ],
   "source": [
    "sql2 = generate_sql(\n",
    "    question=\"Show the stadium names without any concert.\",\n",
    "    db_id=\"concert_singer\",\n",
    "    prompt_fn=zero_shot_prompt,\n",
    ")\n",
    "print(sql2)"
   ]
  },
  {
   "cell_type": "code",
   "execution_count": 65,
   "id": "711e8db4-646f-4949-b55e-808a72941de2",
   "metadata": {
    "id": "711e8db4-646f-4949-b55e-808a72941de2",
    "outputId": "151fadbd-a10c-473f-e838-b6226c4ba4bf"
   },
   "outputs": [
    {
     "name": "stdout",
     "output_type": "stream",
     "text": [
      "SELECT DISTINCT s.Fname\n",
      "FROM Student s\n",
      "JOIN Has_Pet hp1 ON s.StuID = hp1.StuID\n",
      "JOIN Pets p1 ON hp1.PetID = p1.PetID\n",
      "JOIN Has_Pet hp2 ON s.StuID = hp2.StuID\n",
      "JOIN Pets p2 ON hp2.PetID = p2.PetID\n",
      "WHERE p1.PetType = 'Cat' AND p2.PetType = 'Dog';\n"
     ]
    }
   ],
   "source": [
    "sql3 = generate_sql(\n",
    "    question=\"What are the students' first names who have both cats and dogs as pets?\",\n",
    "    db_id=\"pets_1\",\n",
    "    prompt_fn=zero_shot_prompt,\n",
    ")\n",
    "print(sql3)"
   ]
  },
  {
   "cell_type": "code",
   "execution_count": 66,
   "id": "a5468f41-5f2f-4158-b2f9-999c9a8f8a0c",
   "metadata": {
    "id": "a5468f41-5f2f-4158-b2f9-999c9a8f8a0c",
    "outputId": "f8236f17-c5a8-4427-cdfc-22af8f0c28e6"
   },
   "outputs": [
    {
     "name": "stdout",
     "output_type": "stream",
     "text": [
      "SELECT s.StuID\n",
      "FROM Student s\n",
      "WHERE s.StuID NOT IN (\n",
      "    SELECT hp.StuID\n",
      "    FROM Has_Pet hp\n",
      "    JOIN Pets p ON hp.PetID = p.PetID\n",
      "    WHERE p.PetType = 'cat'\n",
      ");\n"
     ]
    }
   ],
   "source": [
    "sql4 = generate_sql(\n",
    "    question=\"Find the id of students who do not have a cat pet.\",\n",
    "    db_id=\"pets_1\",\n",
    "    prompt_fn=zero_shot_prompt,\n",
    ")\n",
    "print(sql4)"
   ]
  },
  {
   "cell_type": "code",
   "execution_count": 34,
   "id": "ff8e899c-a4c4-42ce-8c48-3972e574d654",
   "metadata": {
    "id": "ff8e899c-a4c4-42ce-8c48-3972e574d654",
    "outputId": "1bfa4783-6063-48ee-edf7-5bc28648f51d"
   },
   "outputs": [
    {
     "name": "stdout",
     "output_type": "stream",
     "text": [
      "SELECT Student.Fname, Student.Age\n",
      "FROM Student\n",
      "JOIN Has_Pet ON Student.StuID = Has_Pet.StuID;\n"
     ]
    }
   ],
   "source": [
    "sql5 = generate_sql(\n",
    "    question=\"Find the first name and age of students who have a pet.\",\n",
    "    db_id=\"pets_1\",\n",
    "    prompt_fn=zero_shot_prompt,\n",
    ")\n",
    "print(sql5)"
   ]
  },
  {
   "cell_type": "code",
   "execution_count": 67,
   "id": "10deb49a-b8d0-4b9a-99d8-eff10bbfbb25",
   "metadata": {
    "id": "10deb49a-b8d0-4b9a-99d8-eff10bbfbb25",
    "outputId": "bc6acc06-7000-481f-af17-d1d41f4aa981"
   },
   "outputs": [
    {
     "name": "stdout",
     "output_type": "stream",
     "text": [
      "\n",
      "\n",
      "GOLD_SQL: SELECT count(*) FROM concert WHERE YEAR  =  2014 OR YEAR  =  2015\n",
      "GOLD_RES: [(0,)]\n",
      "PRED_RES: [(0,)]\n",
      "==> CORRECT: True\n",
      "\n",
      "\n",
      "GOLD_SQL: SELECT name FROM stadium WHERE stadium_id NOT IN (SELECT stadium_id FROM concert)\n",
      "GOLD_RES: [('Ocean Field',)]\n",
      "PRED_RES: [('Ocean Field',)]\n",
      "==> CORRECT: True\n",
      "\n",
      "\n",
      "GOLD_SQL: SELECT T1.Fname FROM student AS T1 JOIN has_pet AS T2 ON T1.stuid  =  T2.stuid JOIN pets AS T3 ON T3.petid  =  T2.petid WHERE T3.pettype  =  'cat' INTERSECT SELECT T1.Fname FROM student AS T1 JOIN has_pet AS T2 ON T1.stuid  =  T2.stuid JOIN pets AS T3 ON T3.petid  =  T2.petid WHERE T3.pettype  =  'dog'\n",
      "GOLD_RES: [('John',)]\n",
      "PRED_RES: []\n",
      "==> CORRECT: False\n",
      "\n",
      "\n",
      "GOLD_SQL: SELECT stuid FROM student EXCEPT SELECT T1.stuid FROM student AS T1 JOIN has_pet AS T2 ON T1.stuid  =  T2.stuid JOIN pets AS T3 ON T3.petid  =  T2.petid WHERE T3.pettype  =  'cat'\n",
      "GOLD_RES: [(102,), (103,), (104,), (105,)]\n",
      "PRED_RES: [(102,), (103,), (104,), (105,)]\n",
      "==> CORRECT: True\n",
      "\n",
      "\n",
      "GOLD_SQL: SELECT DISTINCT T1.fname ,  T1.age FROM student AS T1 JOIN has_pet AS T2 ON T1.stuid  =  T2.stuid\n",
      "GOLD_RES: [('John', 20), ('David', 19), ('Michael', 21), ('Sarah', 23)]\n",
      "PRED_RES: [('John', 20), ('John', 20), ('David', 19), ('Michael', 21), ('Sarah', 23), ('David', 19)]\n",
      "==> CORRECT: False\n"
     ]
    },
    {
     "data": {
      "text/html": [
       "<div>\n",
       "<style scoped>\n",
       "    .dataframe tbody tr th:only-of-type {\n",
       "        vertical-align: middle;\n",
       "    }\n",
       "\n",
       "    .dataframe tbody tr th {\n",
       "        vertical-align: top;\n",
       "    }\n",
       "\n",
       "    .dataframe thead th {\n",
       "        text-align: right;\n",
       "    }\n",
       "</style>\n",
       "<table border=\"1\" class=\"dataframe\">\n",
       "  <thead>\n",
       "    <tr style=\"text-align: right;\">\n",
       "      <th></th>\n",
       "      <th>DB ID</th>\n",
       "      <th>Question</th>\n",
       "      <th>Correct</th>\n",
       "      <th>Error</th>\n",
       "    </tr>\n",
       "  </thead>\n",
       "  <tbody>\n",
       "    <tr>\n",
       "      <th>0</th>\n",
       "      <td>concert_singer</td>\n",
       "      <td>How many concerts occurred in 2014 or 2015?</td>\n",
       "      <td>True</td>\n",
       "      <td>None</td>\n",
       "    </tr>\n",
       "    <tr>\n",
       "      <th>1</th>\n",
       "      <td>concert_singer</td>\n",
       "      <td>Show the stadium names without any concert.</td>\n",
       "      <td>True</td>\n",
       "      <td>None</td>\n",
       "    </tr>\n",
       "    <tr>\n",
       "      <th>2</th>\n",
       "      <td>pets_1</td>\n",
       "      <td>What are the students' first names who have bo...</td>\n",
       "      <td>False</td>\n",
       "      <td>None</td>\n",
       "    </tr>\n",
       "    <tr>\n",
       "      <th>3</th>\n",
       "      <td>pets_1</td>\n",
       "      <td>Find the id of students who do not have a cat ...</td>\n",
       "      <td>True</td>\n",
       "      <td>None</td>\n",
       "    </tr>\n",
       "    <tr>\n",
       "      <th>4</th>\n",
       "      <td>pets_1</td>\n",
       "      <td>Find the first name and age of students who ha...</td>\n",
       "      <td>False</td>\n",
       "      <td>None</td>\n",
       "    </tr>\n",
       "  </tbody>\n",
       "</table>\n",
       "</div>"
      ],
      "text/plain": [
       "            DB ID                                           Question  Correct  \\\n",
       "0  concert_singer        How many concerts occurred in 2014 or 2015?     True   \n",
       "1  concert_singer        Show the stadium names without any concert.     True   \n",
       "2          pets_1  What are the students' first names who have bo...    False   \n",
       "3          pets_1  Find the id of students who do not have a cat ...     True   \n",
       "4          pets_1  Find the first name and age of students who ha...    False   \n",
       "\n",
       "  Error  \n",
       "0  None  \n",
       "1  None  \n",
       "2  None  \n",
       "3  None  \n",
       "4  None  "
      ]
     },
     "metadata": {},
     "output_type": "display_data"
    }
   ],
   "source": [
    "# Now let's evaluate all 5 queries and see how the LLM did\n",
    "sqls = [sql1, sql2, sql3, sql4, sql5]\n",
    "report = eval_generated_queries(sqls)\n",
    "display(report)"
   ]
  },
  {
   "cell_type": "markdown",
   "id": "66300234-b579-4548-8eb5-c18f414c3a48",
   "metadata": {
    "id": "66300234-b579-4548-8eb5-c18f414c3a48"
   },
   "source": [
    "Not bad! 3 / 5 questions answered correctly - LLMs are truly a game changer. However, if we were deploying this in production, we would want the maximum possible accuracy, so let's see how we can make the model a little bit better."
   ]
  },
  {
   "cell_type": "markdown",
   "id": "7969b0d9-7267-40c1-bbbb-05b7953d4312",
   "metadata": {
    "id": "7969b0d9-7267-40c1-bbbb-05b7953d4312"
   },
   "source": [
    "#### Few-Shot Text to SQL"
   ]
  },
  {
   "cell_type": "markdown",
   "id": "d49c0640-db19-4d5c-9db7-2008998c0a45",
   "metadata": {
    "id": "d49c0640-db19-4d5c-9db7-2008998c0a45"
   },
   "source": [
    "Few-Shot prompting has been a technique for a few years, since LLMs were first conceived. The theory behind few-shot prompting (also known as \"In-Context Learning\") is that we are showing the model examples of our desired input/output pairs, and guiding the model to make decisions more in line with what we expect for the task at hand. Since the original GPT-3 paper, [Language Models are Few-Shot Learners](https://arxiv.org/abs/2005.14165), few-shot methods have been shown to greatly improve performance over zero-shot methods (aka no examples in the prompt). Because of this, let's see how our model does if we give it a few examples of correct output."
   ]
  },
  {
   "cell_type": "code",
   "execution_count": 68,
   "id": "27675c80-926c-4aa4-84e6-1641b88a3c1b",
   "metadata": {
    "id": "27675c80-926c-4aa4-84e6-1641b88a3c1b"
   },
   "outputs": [],
   "source": [
    "from functools import partial\n",
    "\n",
    "fixed_few_shot_prompt_fn = partial(few_shot_prompt, indices=[0, 2])"
   ]
  },
  {
   "cell_type": "markdown",
   "id": "dcfe2f65-fa94-4404-a382-4702b516b117",
   "metadata": {
    "id": "dcfe2f65-fa94-4404-a382-4702b516b117"
   },
   "source": [
    "NOTE: One of the biggest tradeoffs with few-shot learning is the context length. We end up sacrificing context-length (and thus increasing costs, latency, and decreasing the space left for the generation) for each example shown to the model. For examples where the input context is very long (like showing schemas for SQL queries), this can be a difficult tradeoff to make. In our scenario, we will settle for just showing 2 examples to the model."
   ]
  },
  {
   "cell_type": "code",
   "execution_count": 69,
   "id": "eed50d04-daf0-487a-963d-2bd064b84667",
   "metadata": {
    "id": "eed50d04-daf0-487a-963d-2bd064b84667",
    "outputId": "dba1e25a-ca31-46ad-d980-32c41878d08b"
   },
   "outputs": [
    {
     "name": "stdout",
     "output_type": "stream",
     "text": [
      "Prompting ChatGPT with:\n",
      "Here is an example: Convert text to SQL:\n",
      "\n",
      "[Schema : (values)]: | concert_singer | stadium : Stadium_ID , Location , Name , Capacity , Highest , Lowest , Average | singer : Singer_ID , Name , Country , Song_Name , Song_release_year , Age , Is_male | concert : concert_ID , concert_Name , Theme , Stadium_ID , Year | singer_in_concert : concert_ID , Singer_ID ;\n",
      "\n",
      "[Column names (type)]: stadium : Stadium_ID (number) | stadium : Location (text) | stadium : Name (text) | stadium : Capacity (number) | stadium : Highest (number) | stadium : Lowest (number) | stadium : Average (number) | singer : Singer_ID (number) | singer : Name (text) | singer : Country (text) | singer : Song_Name (text) | singer : Song_release_year (text) | singer : Age (number) | singer : Is_male (others) | concert : concert_ID (number) | concert : concert_Name (text) | concert : Theme (text) | concert : Stadium_ID (text) | concert : Year (text) | singer_in_concert : concert_ID (number) | singer_in_concert : Singer_ID (text) ;\n",
      "\n",
      "[Primary Keys]: stadium : Stadium_ID | singer : Singer_ID | concert : concert_ID | singer_in_concert : concert_ID\n",
      "\n",
      "[Foreign Keys]: concert : Stadium_ID equals stadium : Stadium_ID | singer_in_concert : Singer_ID equals singer : Singer_ID | singer_in_concert : concert_ID equals concert : concert_ID\n",
      "\n",
      "[Q]: How many singers do we have?\n",
      "\n",
      "[SQL]: SELECT count(*) FROM singer\n",
      "\n",
      "Here is an example: Convert text to SQL:\n",
      "\n",
      "[Schema : (values)]: | concert_singer | stadium : Stadium_ID , Location , Name , Capacity , Highest , Lowest , Average | singer : Singer_ID , Name , Country , Song_Name , Song_release_year , Age , Is_male | concert : concert_ID , concert_Name , Theme , Stadium_ID , Year | singer_in_concert : concert_ID , Singer_ID ;\n",
      "\n",
      "[Column names (type)]: stadium : Stadium_ID (number) | stadium : Location (text) | stadium : Name (text) | stadium : Capacity (number) | stadium : Highest (number) | stadium : Lowest (number) | stadium : Average (number) | singer : Singer_ID (number) | singer : Name (text) | singer : Country (text) | singer : Song_Name (text) | singer : Song_release_year (text) | singer : Age (number) | singer : Is_male (others) | concert : concert_ID (number) | concert : concert_Name (text) | concert : Theme (text) | concert : Stadium_ID (text) | concert : Year (text) | singer_in_concert : concert_ID (number) | singer_in_concert : Singer_ID (text) ;\n",
      "\n",
      "[Primary Keys]: stadium : Stadium_ID | singer : Singer_ID | concert : concert_ID | singer_in_concert : concert_ID\n",
      "\n",
      "[Foreign Keys]: concert : Stadium_ID equals stadium : Stadium_ID | singer_in_concert : Singer_ID equals singer : Singer_ID | singer_in_concert : concert_ID equals concert : concert_ID\n",
      "\n",
      "[Q]: Show name, country, age for all singers ordered by age from the oldest to the youngest.\n",
      "\n",
      "[SQL]: SELECT name ,  country ,  age FROM singer ORDER BY age DESC\n",
      "\n",
      "Given the following schema information, generate valid SQL to answer the provided query. Enclose the query in markdown code-block syntax.Convert text to SQL:\n",
      "\n",
      "[Schema : (values)]: | concert_singer | stadium : Stadium_ID , Location , Name , Capacity , Highest , Lowest , Average | singer : Singer_ID , Name , Country , Song_Name , Song_release_year , Age , Is_male | concert : concert_ID , concert_Name , Theme , Stadium_ID , Year | singer_in_concert : concert_ID , Singer_ID ;\n",
      "\n",
      "[Column names (type)]: stadium : Stadium_ID (number) | stadium : Location (text) | stadium : Name (text) | stadium : Capacity (number) | stadium : Highest (number) | stadium : Lowest (number) | stadium : Average (number) | singer : Singer_ID (number) | singer : Name (text) | singer : Country (text) | singer : Song_Name (text) | singer : Song_release_year (text) | singer : Age (number) | singer : Is_male (others) | concert : concert_ID (number) | concert : concert_Name (text) | concert : Theme (text) | concert : Stadium_ID (text) | concert : Year (text) | singer_in_concert : concert_ID (number) | singer_in_concert : Singer_ID (text) ;\n",
      "\n",
      "[Primary Keys]: stadium : Stadium_ID | singer : Singer_ID | concert : concert_ID | singer_in_concert : concert_ID\n",
      "\n",
      "[Foreign Keys]: concert : Stadium_ID equals stadium : Stadium_ID | singer_in_concert : Singer_ID equals singer : Singer_ID | singer_in_concert : concert_ID equals concert : concert_ID\n",
      "\n",
      "[Q]: How many concerts occurred in 2014 or 2015?\n",
      "\n",
      "[SQL]: \n",
      "\n",
      "\n",
      "SELECT COUNT(*) FROM concert WHERE Year = '2014' OR Year = '2015'\n"
     ]
    }
   ],
   "source": [
    "# Showing the prompt here as well to get a sense of what the model is seeing for context\n",
    "sql1 = generate_sql(\n",
    "    question=\"How many concerts occurred in 2014 or 2015?\",\n",
    "    db_id=\"concert_singer\",\n",
    "    prompt_fn=fixed_few_shot_prompt_fn,\n",
    "    debug_prompt=True,\n",
    ")\n",
    "print(sql1)"
   ]
  },
  {
   "cell_type": "code",
   "execution_count": 70,
   "id": "3c5467ff-942b-426f-8483-ea1febddb0e5",
   "metadata": {
    "id": "3c5467ff-942b-426f-8483-ea1febddb0e5",
    "outputId": "5b3bdd0f-e426-43d3-9136-7edc3053d03d"
   },
   "outputs": [
    {
     "name": "stdout",
     "output_type": "stream",
     "text": [
      "SELECT s.Name\n",
      "FROM stadium s\n",
      "LEFT JOIN concert c ON s.Stadium_ID = c.Stadium_ID\n",
      "WHERE c.concert_ID IS NULL\n"
     ]
    }
   ],
   "source": [
    "sql2 = generate_sql(\n",
    "    question=\"Show the stadium names without any concert.\",\n",
    "    db_id=\"concert_singer\",\n",
    "    prompt_fn=fixed_few_shot_prompt_fn,\n",
    ")\n",
    "print(sql2)"
   ]
  },
  {
   "cell_type": "code",
   "execution_count": 71,
   "id": "38e8027f-0c39-481a-9d5f-bf03a4e30677",
   "metadata": {
    "id": "38e8027f-0c39-481a-9d5f-bf03a4e30677",
    "outputId": "1ff2d59f-f994-497a-b700-7ef1f20d39e0"
   },
   "outputs": [
    {
     "name": "stdout",
     "output_type": "stream",
     "text": [
      "SELECT DISTINCT s.Fname \n",
      "FROM Student s\n",
      "JOIN Has_Pet hp1 ON s.StuID = hp1.StuID\n",
      "JOIN Pets p1 ON hp1.PetID = p1.PetID\n",
      "JOIN Has_Pet hp2 ON s.StuID = hp2.StuID\n",
      "JOIN Pets p2 ON hp2.PetID = p2.PetID\n",
      "WHERE p1.PetType = 'cat' AND p2.PetType = 'dog'\n"
     ]
    }
   ],
   "source": [
    "sql3 = generate_sql(\n",
    "    question=\"What are the students' first names who have both cats and dogs as pets?\",\n",
    "    db_id=\"pets_1\",\n",
    "    prompt_fn=fixed_few_shot_prompt_fn,\n",
    ")\n",
    "print(sql3)"
   ]
  },
  {
   "cell_type": "code",
   "execution_count": 72,
   "id": "19ecf470-0a19-491e-92b0-6848b8183c2f",
   "metadata": {
    "id": "19ecf470-0a19-491e-92b0-6848b8183c2f",
    "outputId": "61879f15-0303-49fc-c026-58912d442bcb"
   },
   "outputs": [
    {
     "name": "stdout",
     "output_type": "stream",
     "text": [
      "SELECT StuID \n",
      "FROM Student \n",
      "WHERE StuID NOT IN (\n",
      "    SELECT distinct Has_Pet.StuID \n",
      "    FROM Has_Pet \n",
      "    JOIN Pets ON Has_Pet.PetID = Pets.PetID \n",
      "    WHERE Pets.PetType = 'cat'\n",
      ")\n"
     ]
    }
   ],
   "source": [
    "sql4 = generate_sql(\n",
    "    question=\"Find the id of students who do not have a cat pet.\",\n",
    "    db_id=\"pets_1\",\n",
    "    prompt_fn=fixed_few_shot_prompt_fn,\n",
    ")\n",
    "print(sql4)"
   ]
  },
  {
   "cell_type": "code",
   "execution_count": 73,
   "id": "0a594fbf-9e40-4eab-8167-52ffd9a25658",
   "metadata": {
    "id": "0a594fbf-9e40-4eab-8167-52ffd9a25658",
    "outputId": "ff4bd90a-9d60-4301-ef42-6763e58afd54"
   },
   "outputs": [
    {
     "name": "stdout",
     "output_type": "stream",
     "text": [
      "SELECT Student.Fname, Student.Age\n",
      "FROM Student\n",
      "JOIN Has_Pet ON Student.StuID = Has_Pet.StuID\n"
     ]
    }
   ],
   "source": [
    "sql5 = generate_sql(\n",
    "    question=\"Find the first name and age of students who have a pet.\",\n",
    "    db_id=\"pets_1\",\n",
    "    prompt_fn=fixed_few_shot_prompt_fn,\n",
    ")\n",
    "print(sql5)"
   ]
  },
  {
   "cell_type": "code",
   "execution_count": 74,
   "id": "a67d7e98-a5e5-4654-98e6-6dd323779090",
   "metadata": {
    "id": "a67d7e98-a5e5-4654-98e6-6dd323779090",
    "outputId": "8865f2dc-a523-4243-f6a1-12dc750cf767"
   },
   "outputs": [
    {
     "name": "stdout",
     "output_type": "stream",
     "text": [
      "\n",
      "\n",
      "GOLD_SQL: SELECT count(*) FROM concert WHERE YEAR  =  2014 OR YEAR  =  2015\n",
      "GOLD_RES: [(0,)]\n",
      "PRED_RES: [(0,)]\n",
      "==> CORRECT: True\n",
      "\n",
      "\n",
      "GOLD_SQL: SELECT name FROM stadium WHERE stadium_id NOT IN (SELECT stadium_id FROM concert)\n",
      "GOLD_RES: [('Ocean Field',)]\n",
      "PRED_RES: [('Ocean Field',)]\n",
      "==> CORRECT: True\n",
      "\n",
      "\n",
      "GOLD_SQL: SELECT T1.Fname FROM student AS T1 JOIN has_pet AS T2 ON T1.stuid  =  T2.stuid JOIN pets AS T3 ON T3.petid  =  T2.petid WHERE T3.pettype  =  'cat' INTERSECT SELECT T1.Fname FROM student AS T1 JOIN has_pet AS T2 ON T1.stuid  =  T2.stuid JOIN pets AS T3 ON T3.petid  =  T2.petid WHERE T3.pettype  =  'dog'\n",
      "GOLD_RES: [('John',)]\n",
      "PRED_RES: [('John',)]\n",
      "==> CORRECT: True\n",
      "\n",
      "\n",
      "GOLD_SQL: SELECT stuid FROM student EXCEPT SELECT T1.stuid FROM student AS T1 JOIN has_pet AS T2 ON T1.stuid  =  T2.stuid JOIN pets AS T3 ON T3.petid  =  T2.petid WHERE T3.pettype  =  'cat'\n",
      "GOLD_RES: [(102,), (103,), (104,), (105,)]\n",
      "PRED_RES: [(102,), (103,), (104,), (105,)]\n",
      "==> CORRECT: True\n",
      "\n",
      "\n",
      "GOLD_SQL: SELECT DISTINCT T1.fname ,  T1.age FROM student AS T1 JOIN has_pet AS T2 ON T1.stuid  =  T2.stuid\n",
      "GOLD_RES: [('John', 20), ('David', 19), ('Michael', 21), ('Sarah', 23)]\n",
      "PRED_RES: [('John', 20), ('John', 20), ('David', 19), ('Michael', 21), ('Sarah', 23), ('David', 19)]\n",
      "==> CORRECT: False\n"
     ]
    },
    {
     "data": {
      "text/html": [
       "<div>\n",
       "<style scoped>\n",
       "    .dataframe tbody tr th:only-of-type {\n",
       "        vertical-align: middle;\n",
       "    }\n",
       "\n",
       "    .dataframe tbody tr th {\n",
       "        vertical-align: top;\n",
       "    }\n",
       "\n",
       "    .dataframe thead th {\n",
       "        text-align: right;\n",
       "    }\n",
       "</style>\n",
       "<table border=\"1\" class=\"dataframe\">\n",
       "  <thead>\n",
       "    <tr style=\"text-align: right;\">\n",
       "      <th></th>\n",
       "      <th>DB ID</th>\n",
       "      <th>Question</th>\n",
       "      <th>Correct</th>\n",
       "      <th>Error</th>\n",
       "    </tr>\n",
       "  </thead>\n",
       "  <tbody>\n",
       "    <tr>\n",
       "      <th>0</th>\n",
       "      <td>concert_singer</td>\n",
       "      <td>How many concerts occurred in 2014 or 2015?</td>\n",
       "      <td>True</td>\n",
       "      <td>None</td>\n",
       "    </tr>\n",
       "    <tr>\n",
       "      <th>1</th>\n",
       "      <td>concert_singer</td>\n",
       "      <td>Show the stadium names without any concert.</td>\n",
       "      <td>True</td>\n",
       "      <td>None</td>\n",
       "    </tr>\n",
       "    <tr>\n",
       "      <th>2</th>\n",
       "      <td>pets_1</td>\n",
       "      <td>What are the students' first names who have bo...</td>\n",
       "      <td>True</td>\n",
       "      <td>None</td>\n",
       "    </tr>\n",
       "    <tr>\n",
       "      <th>3</th>\n",
       "      <td>pets_1</td>\n",
       "      <td>Find the id of students who do not have a cat ...</td>\n",
       "      <td>True</td>\n",
       "      <td>None</td>\n",
       "    </tr>\n",
       "    <tr>\n",
       "      <th>4</th>\n",
       "      <td>pets_1</td>\n",
       "      <td>Find the first name and age of students who ha...</td>\n",
       "      <td>False</td>\n",
       "      <td>None</td>\n",
       "    </tr>\n",
       "  </tbody>\n",
       "</table>\n",
       "</div>"
      ],
      "text/plain": [
       "            DB ID                                           Question  Correct  \\\n",
       "0  concert_singer        How many concerts occurred in 2014 or 2015?     True   \n",
       "1  concert_singer        Show the stadium names without any concert.     True   \n",
       "2          pets_1  What are the students' first names who have bo...     True   \n",
       "3          pets_1  Find the id of students who do not have a cat ...     True   \n",
       "4          pets_1  Find the first name and age of students who ha...    False   \n",
       "\n",
       "  Error  \n",
       "0  None  \n",
       "1  None  \n",
       "2  None  \n",
       "3  None  \n",
       "4  None  "
      ]
     },
     "metadata": {},
     "output_type": "display_data"
    }
   ],
   "source": [
    "# Now lets evaluate all 5 queries and see how the LLM did\n",
    "sqls = [sql1, sql2, sql3, sql4, sql5]\n",
    "report = eval_generated_queries(sqls)\n",
    "display(report)"
   ]
  },
  {
   "cell_type": "markdown",
   "id": "3ce7ceb5-51a6-4cf2-aada-a9c9041568fc",
   "metadata": {
    "id": "3ce7ceb5-51a6-4cf2-aada-a9c9041568fc"
   },
   "source": [
    "No numeric improvement, but we were able to get the 4th question right (at the cost of the third question now generating invalid SQL). Few-Shot prompting is helpful in some cases, but when the LLM already understands the problem structure, we don't see much improvement from showing it other generic examples."
   ]
  },
  {
   "cell_type": "markdown",
   "id": "1c21e36b-15e3-471e-93b1-906873e476a2",
   "metadata": {
    "id": "1c21e36b-15e3-471e-93b1-906873e476a2"
   },
   "source": [
    "#### Dynamic Few-Shot Text to SQL"
   ]
  },
  {
   "cell_type": "markdown",
   "id": "c6a0f81a-c730-4220-a41f-2a9b3d9cd023",
   "metadata": {
    "id": "c6a0f81a-c730-4220-a41f-2a9b3d9cd023"
   },
   "source": [
    "The few-shot prompting style used above can be helpful in some cases, but sometimes we need more tailored information for the model to learn from. To better inform the model, we can find similar questions to the one being asked, and use those as In-Context Learning examples (aka few-shot examples) instead!\n",
    "\n",
    "We'll start by loading the rest of the Spider dataset into Astra DB. Once it's there, then we can create a new `prompt_fn` that generates a few-shot prompt based on the most similar questions to the one being asked."
   ]
  },
  {
   "cell_type": "code",
   "execution_count": 92,
   "id": "0c94bd4e-3055-4de2-b149-cd5a2b1dc6fa",
   "metadata": {
    "id": "0c94bd4e-3055-4de2-b149-cd5a2b1dc6fa",
    "outputId": "c0e2db06-2f5c-4ae9-b45d-a18bb929b9bc"
   },
   "outputs": [],
   "source": [
    "# First create a collection for vector search\n",
    "from astrapy.info import CollectionDefinition\n",
    "from astrapy.api_options import APIOptions, SerdesOptions  # this enables passing directly 'ndarray' and the like to Astra DB\n",
    "\n",
    "astra_db_collection = astra_db.create_collection(\n",
    "    \"text2sql_examples_test1\",\n",
    "    definition=(\n",
    "        CollectionDefinition.builder()\n",
    "        .set_vector_dimension(1536)\n",
    "        .build()\n",
    "    ),\n",
    "    spawn_api_options=APIOptions(\n",
    "        serdes_options=SerdesOptions(\n",
    "            unroll_iterables_to_lists=True,\n",
    "        ),\n",
    "    ),\n",
    ")"
   ]
  },
  {
   "cell_type": "code",
   "execution_count": 78,
   "id": "96ee4c10-a502-4ff1-a3b5-d52a4d4d8fb9",
   "metadata": {
    "colab": {
     "referenced_widgets": [
      "726ca5ed0b5943d49530d58cab901d57"
     ]
    },
    "id": "96ee4c10-a502-4ff1-a3b5-d52a4d4d8fb9",
    "outputId": "ac645bb8-580f-440e-f90e-251f01162b7a"
   },
   "outputs": [
    {
     "data": {
      "application/vnd.jupyter.widget-view+json": {
       "model_id": "c393d71af3124a919801eca146c05b90",
       "version_major": 2,
       "version_minor": 0
      },
      "text/plain": [
       "  0%|          | 0/1025 [00:00<?, ?it/s]"
      ]
     },
     "metadata": {},
     "output_type": "display_data"
    }
   ],
   "source": [
    "# Next embed all questions in our \"train\" set\n",
    "from tqdm.auto import tqdm\n",
    "\n",
    "tqdm.pandas()\n",
    "\n",
    "spider_embeddings = spider_df[\"question\"].progress_apply(lambda question: compute_embedding(question))\n",
    "spider_df[\"question_embedding\"] = spider_embeddings"
   ]
  },
  {
   "cell_type": "code",
   "execution_count": 102,
   "id": "e68a0c48-fc1e-4377-930c-f1e87b0e6f35",
   "metadata": {
    "colab": {
     "referenced_widgets": [
      "0ec19321799344bebc7be71f312ab48a"
     ]
    },
    "id": "e68a0c48-fc1e-4377-930c-f1e87b0e6f35",
    "outputId": "8ea01b7f-3693-4e6a-d259-6f6c30f43042"
   },
   "outputs": [
    {
     "name": "stdout",
     "output_type": "stream",
     "text": [
      "CollectionInsertManyResult(inserted_ids=[0, 1, 2, 3, 4 ... (1025 total)], raw_results=...)\n"
     ]
    }
   ],
   "source": [
    "# Now upload those documents to Astra DB\n",
    "spider_df['_id'] = spider_df.index\n",
    "# (must use the special name '$vector' for the embedding)\n",
    "spider_documents = spider_df.rename(columns={'question_embedding': '$vector'}).to_dict(orient=\"records\")\n",
    "\n",
    "result = astra_db_collection.insert_many(\n",
    "    spider_documents,\n",
    "    # this is a lot of big documents, so let's be cautious\n",
    "    timeout_ms=45000,\n",
    "    request_timeout_ms=20000,\n",
    ")\n",
    "print(result)"
   ]
  },
  {
   "cell_type": "code",
   "execution_count": 103,
   "id": "4a69e0d7-116a-486c-ba9b-ec0ccd0b900d",
   "metadata": {
    "id": "4a69e0d7-116a-486c-ba9b-ec0ccd0b900d"
   },
   "outputs": [],
   "source": [
    "def dynamic_few_shot_prompt_fn(db_id: str, question: str) -> str:\n",
    "    emb = compute_embedding(question)\n",
    "    docs = astra_db_collection.find(sort={\"$vector\": emb}, limit=2)\n",
    "    closest_q_ids = [\n",
    "        doc[\"_id\"] for doc in docs\n",
    "    ]\n",
    "\n",
    "    return few_shot_prompt(db_id, question, indices=closest_q_ids)\n"
   ]
  },
  {
   "cell_type": "code",
   "execution_count": 104,
   "id": "bf6c0ec6-f8b4-464f-98f2-fabb90992867",
   "metadata": {
    "id": "bf6c0ec6-f8b4-464f-98f2-fabb90992867",
    "outputId": "ec1c7229-7546-4781-cb6e-434536cf7e18"
   },
   "outputs": [
    {
     "name": "stdout",
     "output_type": "stream",
     "text": [
      "Prompting ChatGPT with:\n",
      "Here is an example: Convert text to SQL:\n",
      "\n",
      "[Schema : (values)]: | concert_singer | stadium : Stadium_ID , Location , Name , Capacity , Highest , Lowest , Average | singer : Singer_ID , Name , Country , Song_Name , Song_release_year , Age , Is_male | concert : concert_ID , concert_Name , Theme , Stadium_ID , Year | singer_in_concert : concert_ID , Singer_ID ;\n",
      "\n",
      "[Column names (type)]: stadium : Stadium_ID (number) | stadium : Location (text) | stadium : Name (text) | stadium : Capacity (number) | stadium : Highest (number) | stadium : Lowest (number) | stadium : Average (number) | singer : Singer_ID (number) | singer : Name (text) | singer : Country (text) | singer : Song_Name (text) | singer : Song_release_year (text) | singer : Age (number) | singer : Is_male (others) | concert : concert_ID (number) | concert : concert_Name (text) | concert : Theme (text) | concert : Stadium_ID (text) | concert : Year (text) | singer_in_concert : concert_ID (number) | singer_in_concert : Singer_ID (text) ;\n",
      "\n",
      "[Primary Keys]: stadium : Stadium_ID | singer : Singer_ID | concert : concert_ID | singer_in_concert : concert_ID\n",
      "\n",
      "[Foreign Keys]: concert : Stadium_ID equals stadium : Stadium_ID | singer_in_concert : Singer_ID equals singer : Singer_ID | singer_in_concert : concert_ID equals concert : concert_ID\n",
      "\n",
      "[Q]: What are the names and locations of the stadiums that had concerts that occurred in both 2014 and 2015?\n",
      "\n",
      "[SQL]: SELECT T2.name ,  T2.location FROM concert AS T1 JOIN stadium AS T2 ON T1.stadium_id  =  T2.stadium_id WHERE T1.Year  =  2014 INTERSECT SELECT T2.name ,  T2.location FROM concert AS T1 JOIN stadium AS T2 ON T1.stadium_id  =  T2.stadium_id WHERE T1.Year  =  2015\n",
      "\n",
      "Here is an example: Convert text to SQL:\n",
      "\n",
      "[Schema : (values)]: | concert_singer | stadium : Stadium_ID , Location , Name , Capacity , Highest , Lowest , Average | singer : Singer_ID , Name , Country , Song_Name , Song_release_year , Age , Is_male | concert : concert_ID , concert_Name , Theme , Stadium_ID , Year | singer_in_concert : concert_ID , Singer_ID ;\n",
      "\n",
      "[Column names (type)]: stadium : Stadium_ID (number) | stadium : Location (text) | stadium : Name (text) | stadium : Capacity (number) | stadium : Highest (number) | stadium : Lowest (number) | stadium : Average (number) | singer : Singer_ID (number) | singer : Name (text) | singer : Country (text) | singer : Song_Name (text) | singer : Song_release_year (text) | singer : Age (number) | singer : Is_male (others) | concert : concert_ID (number) | concert : concert_Name (text) | concert : Theme (text) | concert : Stadium_ID (text) | concert : Year (text) | singer_in_concert : concert_ID (number) | singer_in_concert : Singer_ID (text) ;\n",
      "\n",
      "[Primary Keys]: stadium : Stadium_ID | singer : Singer_ID | concert : concert_ID | singer_in_concert : concert_ID\n",
      "\n",
      "[Foreign Keys]: concert : Stadium_ID equals stadium : Stadium_ID | singer_in_concert : Singer_ID equals singer : Singer_ID | singer_in_concert : concert_ID equals concert : concert_ID\n",
      "\n",
      "[Q]: Which year has most number of concerts?\n",
      "\n",
      "[SQL]: SELECT YEAR FROM concert GROUP BY YEAR ORDER BY count(*) DESC LIMIT 1\n",
      "\n",
      "Given the following schema information, generate valid SQL to answer the provided query. Enclose the query in markdown code-block syntax.Convert text to SQL:\n",
      "\n",
      "[Schema : (values)]: | concert_singer | stadium : Stadium_ID , Location , Name , Capacity , Highest , Lowest , Average | singer : Singer_ID , Name , Country , Song_Name , Song_release_year , Age , Is_male | concert : concert_ID , concert_Name , Theme , Stadium_ID , Year | singer_in_concert : concert_ID , Singer_ID ;\n",
      "\n",
      "[Column names (type)]: stadium : Stadium_ID (number) | stadium : Location (text) | stadium : Name (text) | stadium : Capacity (number) | stadium : Highest (number) | stadium : Lowest (number) | stadium : Average (number) | singer : Singer_ID (number) | singer : Name (text) | singer : Country (text) | singer : Song_Name (text) | singer : Song_release_year (text) | singer : Age (number) | singer : Is_male (others) | concert : concert_ID (number) | concert : concert_Name (text) | concert : Theme (text) | concert : Stadium_ID (text) | concert : Year (text) | singer_in_concert : concert_ID (number) | singer_in_concert : Singer_ID (text) ;\n",
      "\n",
      "[Primary Keys]: stadium : Stadium_ID | singer : Singer_ID | concert : concert_ID | singer_in_concert : concert_ID\n",
      "\n",
      "[Foreign Keys]: concert : Stadium_ID equals stadium : Stadium_ID | singer_in_concert : Singer_ID equals singer : Singer_ID | singer_in_concert : concert_ID equals concert : concert_ID\n",
      "\n",
      "[Q]: How many concerts occurred in 2014 or 2015?\n",
      "\n",
      "[SQL]: \n",
      "\n",
      "\n",
      "SELECT COUNT(*) \n",
      "FROM concert \n",
      "WHERE Year = 2014 OR Year = 2015\n"
     ]
    }
   ],
   "source": [
    "# Showing the prompt here as well to get a sense of what the model is seeing for context\n",
    "sql1 = generate_sql(\n",
    "    question=\"How many concerts occurred in 2014 or 2015?\",\n",
    "    db_id=\"concert_singer\",\n",
    "    prompt_fn=dynamic_few_shot_prompt_fn,\n",
    "    debug_prompt=True,\n",
    ")\n",
    "print(sql1)"
   ]
  },
  {
   "cell_type": "code",
   "execution_count": 105,
   "id": "dc579caf-a029-4cf7-bb48-d7c5843ba390",
   "metadata": {
    "id": "dc579caf-a029-4cf7-bb48-d7c5843ba390",
    "outputId": "754458bd-dccf-409a-8972-bd0878b79bc4"
   },
   "outputs": [
    {
     "name": "stdout",
     "output_type": "stream",
     "text": [
      "SELECT name \n",
      "FROM stadium \n",
      "WHERE stadium_id NOT IN (\n",
      "    SELECT stadium_id \n",
      "    FROM concert\n",
      ");\n"
     ]
    }
   ],
   "source": [
    "sql2 = generate_sql(\n",
    "    question=\"Show the stadium names without any concert.\",\n",
    "    db_id=\"concert_singer\",\n",
    "    prompt_fn=dynamic_few_shot_prompt_fn,\n",
    ")\n",
    "print(sql2)"
   ]
  },
  {
   "cell_type": "code",
   "execution_count": 106,
   "id": "11e7f5c8-d15c-4785-8d99-f9e20f719174",
   "metadata": {
    "id": "11e7f5c8-d15c-4785-8d99-f9e20f719174",
    "outputId": "be051122-40db-4b29-8320-92be3373eb6b"
   },
   "outputs": [
    {
     "name": "stdout",
     "output_type": "stream",
     "text": [
      "SELECT DISTINCT T1.Fname\n",
      "FROM student AS T1\n",
      "JOIN has_pet AS T2 ON T1.stuid = T2.stuid\n",
      "JOIN pets AS T3 ON T2.petid = T3.petid\n",
      "WHERE T3.pettype = 'cat'\n",
      "AND T1.stuid IN (\n",
      "  SELECT T2.stuid\n",
      "  FROM has_pet AS T2\n",
      "  JOIN pets AS T3 ON T2.petid = T3.petid\n",
      "  WHERE T3.pettype = 'dog'\n",
      ");\n"
     ]
    }
   ],
   "source": [
    "sql3 = generate_sql(\n",
    "    question=\"What are the students' first names who have both cats and dogs as pets?\",\n",
    "    db_id=\"pets_1\",\n",
    "    prompt_fn=dynamic_few_shot_prompt_fn,\n",
    ")\n",
    "print(sql3)"
   ]
  },
  {
   "cell_type": "code",
   "execution_count": 107,
   "id": "5b9beca2-e5ea-4976-9b05-c3bcb555461b",
   "metadata": {
    "id": "5b9beca2-e5ea-4976-9b05-c3bcb555461b",
    "outputId": "8ab16cb8-9e41-4a7a-d02a-863dd2a501c7"
   },
   "outputs": [
    {
     "name": "stdout",
     "output_type": "stream",
     "text": [
      "SELECT T1.stuid \n",
      "FROM student AS T1 \n",
      "WHERE T1.stuid NOT IN (\n",
      "    SELECT T1.stuid \n",
      "    FROM student AS T1 \n",
      "    JOIN has_pet AS T2 ON T1.stuid = T2.stuid \n",
      "    JOIN pets AS T3 ON T3.petid = T2.petid \n",
      "    WHERE T3.pettype = 'cat'\n",
      ")\n"
     ]
    }
   ],
   "source": [
    "sql4 = generate_sql(\n",
    "    question=\"Find the id of students who do not have a cat pet.\",\n",
    "    db_id=\"pets_1\",\n",
    "    prompt_fn=dynamic_few_shot_prompt_fn,\n",
    ")\n",
    "print(sql4)"
   ]
  },
  {
   "cell_type": "code",
   "execution_count": 108,
   "id": "38843d40-c523-4829-b314-20edbe91e988",
   "metadata": {
    "id": "38843d40-c523-4829-b314-20edbe91e988",
    "outputId": "10fc4bfe-5596-44c0-c035-8322c6833e1c"
   },
   "outputs": [
    {
     "name": "stdout",
     "output_type": "stream",
     "text": [
      "SELECT DISTINCT T1.Fname, T1.Age \n",
      "FROM student AS T1 \n",
      "JOIN has_pet AS T2 ON T1.stuid = T2.stuid\n"
     ]
    }
   ],
   "source": [
    "sql5 = generate_sql(\n",
    "    question=\"Find the first name and age of students who have a pet.\",\n",
    "    db_id=\"pets_1\",\n",
    "    prompt_fn=dynamic_few_shot_prompt_fn,\n",
    ")\n",
    "print(sql5)"
   ]
  },
  {
   "cell_type": "code",
   "execution_count": 111,
   "id": "99d27b06-1f57-4182-b224-9edcec1c6d60",
   "metadata": {
    "id": "99d27b06-1f57-4182-b224-9edcec1c6d60",
    "outputId": "d7a8a514-e740-46c3-cf0c-eb7b40543378"
   },
   "outputs": [
    {
     "name": "stdout",
     "output_type": "stream",
     "text": [
      "\n",
      "\n",
      "GOLD_SQL: SELECT count(*) FROM concert WHERE YEAR  =  2014 OR YEAR  =  2015\n",
      "GOLD_RES: [(0,)]\n",
      "PRED_RES: [(0,)]\n",
      "==> CORRECT: True\n",
      "\n",
      "\n",
      "GOLD_SQL: SELECT name FROM stadium WHERE stadium_id NOT IN (SELECT stadium_id FROM concert)\n",
      "GOLD_RES: [('Ocean Field',)]\n",
      "PRED_RES: [('Ocean Field',)]\n",
      "==> CORRECT: True\n",
      "\n",
      "\n",
      "GOLD_SQL: SELECT T1.Fname FROM student AS T1 JOIN has_pet AS T2 ON T1.stuid  =  T2.stuid JOIN pets AS T3 ON T3.petid  =  T2.petid WHERE T3.pettype  =  'cat' INTERSECT SELECT T1.Fname FROM student AS T1 JOIN has_pet AS T2 ON T1.stuid  =  T2.stuid JOIN pets AS T3 ON T3.petid  =  T2.petid WHERE T3.pettype  =  'dog'\n",
      "GOLD_RES: [('John',)]\n",
      "PRED_RES: [('John',)]\n",
      "==> CORRECT: True\n",
      "\n",
      "\n",
      "GOLD_SQL: SELECT stuid FROM student EXCEPT SELECT T1.stuid FROM student AS T1 JOIN has_pet AS T2 ON T1.stuid  =  T2.stuid JOIN pets AS T3 ON T3.petid  =  T2.petid WHERE T3.pettype  =  'cat'\n",
      "GOLD_RES: [(102,), (103,), (104,), (105,)]\n",
      "PRED_RES: [(102,), (103,), (104,), (105,)]\n",
      "==> CORRECT: True\n",
      "\n",
      "\n",
      "GOLD_SQL: SELECT DISTINCT T1.fname ,  T1.age FROM student AS T1 JOIN has_pet AS T2 ON T1.stuid  =  T2.stuid\n",
      "GOLD_RES: [('John', 20), ('David', 19), ('Michael', 21), ('Sarah', 23)]\n",
      "PRED_RES: [('John', 20), ('David', 19), ('Michael', 21), ('Sarah', 23)]\n",
      "==> CORRECT: True\n"
     ]
    },
    {
     "data": {
      "text/html": [
       "<div>\n",
       "<style scoped>\n",
       "    .dataframe tbody tr th:only-of-type {\n",
       "        vertical-align: middle;\n",
       "    }\n",
       "\n",
       "    .dataframe tbody tr th {\n",
       "        vertical-align: top;\n",
       "    }\n",
       "\n",
       "    .dataframe thead th {\n",
       "        text-align: right;\n",
       "    }\n",
       "</style>\n",
       "<table border=\"1\" class=\"dataframe\">\n",
       "  <thead>\n",
       "    <tr style=\"text-align: right;\">\n",
       "      <th></th>\n",
       "      <th>DB ID</th>\n",
       "      <th>Question</th>\n",
       "      <th>Correct</th>\n",
       "      <th>Error</th>\n",
       "    </tr>\n",
       "  </thead>\n",
       "  <tbody>\n",
       "    <tr>\n",
       "      <th>0</th>\n",
       "      <td>concert_singer</td>\n",
       "      <td>How many concerts occurred in 2014 or 2015?</td>\n",
       "      <td>True</td>\n",
       "      <td>None</td>\n",
       "    </tr>\n",
       "    <tr>\n",
       "      <th>1</th>\n",
       "      <td>concert_singer</td>\n",
       "      <td>Show the stadium names without any concert.</td>\n",
       "      <td>True</td>\n",
       "      <td>None</td>\n",
       "    </tr>\n",
       "    <tr>\n",
       "      <th>2</th>\n",
       "      <td>pets_1</td>\n",
       "      <td>What are the students' first names who have bo...</td>\n",
       "      <td>True</td>\n",
       "      <td>None</td>\n",
       "    </tr>\n",
       "    <tr>\n",
       "      <th>3</th>\n",
       "      <td>pets_1</td>\n",
       "      <td>Find the id of students who do not have a cat ...</td>\n",
       "      <td>True</td>\n",
       "      <td>None</td>\n",
       "    </tr>\n",
       "    <tr>\n",
       "      <th>4</th>\n",
       "      <td>pets_1</td>\n",
       "      <td>Find the first name and age of students who ha...</td>\n",
       "      <td>True</td>\n",
       "      <td>None</td>\n",
       "    </tr>\n",
       "  </tbody>\n",
       "</table>\n",
       "</div>"
      ],
      "text/plain": [
       "            DB ID                                           Question  Correct  \\\n",
       "0  concert_singer        How many concerts occurred in 2014 or 2015?     True   \n",
       "1  concert_singer        Show the stadium names without any concert.     True   \n",
       "2          pets_1  What are the students' first names who have bo...     True   \n",
       "3          pets_1  Find the id of students who do not have a cat ...     True   \n",
       "4          pets_1  Find the first name and age of students who ha...     True   \n",
       "\n",
       "  Error  \n",
       "0  None  \n",
       "1  None  \n",
       "2  None  \n",
       "3  None  \n",
       "4  None  "
      ]
     },
     "metadata": {},
     "output_type": "display_data"
    }
   ],
   "source": [
    "# Now lets evaluate all 5 queries and see how the LLM did\n",
    "sqls = [sql1, sql2, sql3, sql4, sql5]\n",
    "report = eval_generated_queries(sqls)\n",
    "display(report)"
   ]
  },
  {
   "cell_type": "markdown",
   "id": "b0ccf0f0-8159-449b-b1b9-49ef04e01441",
   "metadata": {
    "id": "b0ccf0f0-8159-449b-b1b9-49ef04e01441"
   },
   "source": [
    "Nice! The model was now able to answer 5 / 5 questions! Being able to modify the data you show the LLM at runtime is certainly important, and can have an impact even just changing the examples that you show it to get more familiar with your problem. Utilizing Astra DB as a dynamic few-shot prompt store is a robust and low-effort way to continuously improve your LLM Text to SQL applications in production."
   ]
  },
  {
   "cell_type": "code",
   "execution_count": null,
   "id": "2ea044b5-7319-4b2e-b083-11d0549f678d",
   "metadata": {
    "id": "2ea044b5-7319-4b2e-b083-11d0549f678d"
   },
   "outputs": [],
   "source": []
  }
 ],
 "metadata": {
  "colab": {
   "provenance": []
  },
  "kernelspec": {
   "display_name": "Python 3 (ipykernel)",
   "language": "python",
   "name": "python3"
  },
  "language_info": {
   "codemirror_mode": {
    "name": "ipython",
    "version": 3
   },
   "file_extension": ".py",
   "mimetype": "text/x-python",
   "name": "python",
   "nbconvert_exporter": "python",
   "pygments_lexer": "ipython3",
   "version": "3.11.2"
  }
 },
 "nbformat": 4,
 "nbformat_minor": 5
}
